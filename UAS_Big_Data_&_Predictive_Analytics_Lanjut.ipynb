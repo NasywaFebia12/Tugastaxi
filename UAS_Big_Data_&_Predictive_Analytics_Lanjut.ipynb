{
  "nbformat": 4,
  "nbformat_minor": 0,
  "metadata": {
    "colab": {
      "provenance": [],
      "include_colab_link": true
    },
    "kernelspec": {
      "name": "python3",
      "display_name": "Python 3"
    },
    "language_info": {
      "name": "python"
    }
  },
  "cells": [
    {
      "cell_type": "markdown",
      "metadata": {
        "id": "view-in-github",
        "colab_type": "text"
      },
      "source": [
        "<a href=\"https://colab.research.google.com/github/NasywaFebia12/Tugastaxi/blob/master/UAS_Big_Data_%26_Predictive_Analytics_Lanjut.ipynb\" target=\"_parent\"><img src=\"https://colab.research.google.com/assets/colab-badge.svg\" alt=\"Open In Colab\"/></a>"
      ]
    },
    {
      "cell_type": "markdown",
      "source": [
        "Proses Data dan Pre-processing"
      ],
      "metadata": {
        "id": "nRd71sYNv53k"
      }
    },
    {
      "cell_type": "code",
      "execution_count": null,
      "metadata": {
        "colab": {
          "base_uri": "https://localhost:8080/",
          "height": 765
        },
        "id": "Nl9CZvpmvqA7",
        "outputId": "fefa713a-eb56-40b6-81b2-b916881f6ff5"
      },
      "outputs": [
        {
          "output_type": "display_data",
          "data": {
            "text/plain": [
              "<Figure size 800x600 with 2 Axes>"
            ],
            "image/png": "[encoded data removed]"
          },
          "metadata": {}
        },
        {
          "output_type": "stream",
          "name": "stdout",
          "text": [
            "+------------+-------------+----+----------+------------+-----------+--------------------+\n",
            "|ID_pelanggan|Jenis Kelamin|Umur|Pendapatan|Skor_Belanja|   features|     scaled_features|\n",
            "+------------+-------------+----+----------+------------+-----------+--------------------+\n",
            "|           1|    Laki-laki|  19|      15.0|        39.0|[15.0,39.0]|[0.60037011812071...|\n",
            "|           2|    Laki-laki|  21|      15.0|        81.0|[15.0,81.0]|[0.60037011812071...|\n",
            "|           3|    Perempuan|  20|      16.0|         6.0| [16.0,6.0]|[0.64039479266209...|\n",
            "|           4|    Perempuan|  23|      16.0|        77.0|[16.0,77.0]|[0.64039479266209...|\n",
            "|           5|    Perempuan|  31|      17.0|        40.0|[17.0,40.0]|[0.68041946720347...|\n",
            "+------------+-------------+----+----------+------------+-----------+--------------------+\n",
            "only showing top 5 rows\n",
            "\n"
          ]
        }
      ],
      "source": [
        "from pyspark.sql import SparkSession\n",
        "from pyspark.sql.functions import col\n",
        "from pyspark.ml.feature import VectorAssembler, StandardScaler\n",
        "\n",
        "# Inisialisasi SparkSession\n",
        "spark = SparkSession.builder.appName(\"SupermarketSegmentation\").getOrCreate()\n",
        "\n",
        "# Load data\n",
        "data_path = \"/content/sample_data/pelanggan_supermarket.csv\"\n",
        "df = spark.read.csv(data_path, header=True, inferSchema=True)\n",
        "\n",
        "# Rename columns\n",
        "df = df.withColumnRenamed(\"Pendapatan pertahun (juta)\", \"Pendapatan\") \\\n",
        "       .withColumnRenamed(\"Skor Belanja (1-100)\", \"Skor_Belanja\")\n",
        "\n",
        "# Drop missing values\n",
        "df = df.dropna()\n",
        "\n",
        "# Transform data types if necessary\n",
        "df = df.withColumn(\"Pendapatan\", col(\"Pendapatan\").cast(\"float\")) \\\n",
        "       .withColumn(\"Skor_Belanja\", col(\"Skor_Belanja\").cast(\"float\"))\n",
        "\n",
        "# Assemble features\n",
        "vec_assembler = VectorAssembler(inputCols=[\"Pendapatan\", \"Skor_Belanja\"], outputCol=\"features\")\n",
        "df_features = vec_assembler.transform(df)\n",
        "\n",
        "# Standardize features\n",
        "scaler = StandardScaler(inputCol=\"features\", outputCol=\"scaled_features\")\n",
        "df_scaled = scaler.fit(df_features).transform(df_features)\n",
        "from pyspark.ml.stat import Correlation\n",
        "from pyspark.ml.linalg import DenseMatrix\n",
        "\n",
        "# Menghitung matriks korelasi\n",
        "correlation_matrix = Correlation.corr(df_features, \"features\").head()[0]\n",
        "\n",
        "# Konversi matriks korelasi ke bentuk DenseMatrix\n",
        "correlation_matrix = DenseMatrix.toArray(correlation_matrix)\n",
        "\n",
        "# Membuat DataFrame untuk visualisasi matriks korelasi\n",
        "import pandas as pd\n",
        "import seaborn as sns\n",
        "import matplotlib.pyplot as plt\n",
        "\n",
        "columns = [\"Pendapatan\", \"Skor_Belanja\"]\n",
        "correlation_df = pd.DataFrame(correlation_matrix, columns=columns, index=columns)\n",
        "\n",
        "# Visualisasi matriks korelasi menggunakan seaborn\n",
        "plt.figure(figsize=(8, 6))\n",
        "sns.heatmap(correlation_df, annot=True, cmap=\"coolwarm\", fmt=\".2f\")\n",
        "plt.title(\"Matriks Korelasi\")\n",
        "plt.show()\n",
        "\n",
        "df_scaled.show(5)\n"
      ]
    },
    {
      "cell_type": "markdown",
      "source": [
        "2. Model Classification <br/>\n",
        "Gradient Boost Tree (GBT)\n",
        "python\n",
        "Copy code\n"
      ],
      "metadata": {
        "id": "AiA-ceQe2vk7"
      }
    },
    {
      "cell_type": "code",
      "source": [
        "from pyspark.ml.classification import GBTClassifier\n",
        "from pyspark.ml.evaluation import MulticlassClassificationEvaluator\n",
        "\n",
        "# Membuat kolom label binary berdasarkan pendapatan\n",
        "df_binary = df_scaled.withColumn(\"Pendapatan_Binary\", (col(\"Pendapatan\") >= 50).cast(\"int\"))\n",
        "\n",
        "# Periksa data hasil transformasi\n",
        "df_binary.select(\"Pendapatan\", \"Pendapatan_Binary\").show(5)\n",
        "\n",
        "# Gradient Boosted Tree Classifier\n",
        "gbt = GBTClassifier(labelCol=\"Pendapatan_Binary\", featuresCol=\"scaled_features\", maxIter=10)\n",
        "gbt_model = gbt.fit(df_binary)\n",
        "gbt_predictions = gbt_model.transform(df_binary)\n",
        "\n",
        "# Evaluasi model menggunakan akurasi\n",
        "evaluator = MulticlassClassificationEvaluator(labelCol=\"Pendapatan_Binary\", metricName=\"accuracy\")\n",
        "gbt_accuracy = evaluator.evaluate(gbt_predictions)\n",
        "print(f\"GBT Accuracy: {gbt_accuracy}\")\n"
      ],
      "metadata": {
        "colab": {
          "base_uri": "https://localhost:8080/"
        },
        "id": "19L2DAJQ2t4w",
        "outputId": "8468ae49-a84e-479f-8cd1-651f03455bb9"
      },
      "execution_count": null,
      "outputs": [
        {
          "output_type": "stream",
          "name": "stdout",
          "text": [
            "+----------+-----------------+\n",
            "|Pendapatan|Pendapatan_Binary|\n",
            "+----------+-----------------+\n",
            "|      15.0|                0|\n",
            "|      15.0|                0|\n",
            "|      16.0|                0|\n",
            "|      16.0|                0|\n",
            "|      17.0|                0|\n",
            "+----------+-----------------+\n",
            "only showing top 5 rows\n",
            "\n",
            "GBT Accuracy: 0.995850622406639\n"
          ]
        }
      ]
    },
    {
      "cell_type": "markdown",
      "source": [
        "Random Forest (Model Tambahan)"
      ],
      "metadata": {
        "id": "RQlR-llb45kM"
      }
    },
    {
      "cell_type": "code",
      "source": [
        "from pyspark.ml.classification import RandomForestClassifier\n",
        "from pyspark.ml.evaluation import MulticlassClassificationEvaluator\n",
        "\n",
        "# Buat kolom binary untuk label (misalnya, Pendapatan >= 50 adalah 1, selain itu 0)\n",
        "df_binary = df_scaled.withColumn(\"Pendapatan_Binary\", (col(\"Pendapatan\") >= 50).cast(\"int\"))\n",
        "\n",
        "# Periksa data setelah transformasi\n",
        "df_binary.select(\"Pendapatan\", \"Pendapatan_Binary\").show(5)\n",
        "\n",
        "# Random Forest Classifier\n",
        "rf = RandomForestClassifier(labelCol=\"Pendapatan_Binary\", featuresCol=\"scaled_features\", numTrees=10)\n",
        "rf_model = rf.fit(df_binary)\n",
        "rf_predictions = rf_model.transform(df_binary)\n",
        "\n",
        "# Evaluasi model menggunakan akurasi\n",
        "evaluator = MulticlassClassificationEvaluator(labelCol=\"Pendapatan_Binary\", metricName=\"accuracy\")\n",
        "rf_accuracy = evaluator.evaluate(rf_predictions)\n",
        "print(f\"Random Forest Accuracy: {rf_accuracy}\")"
      ],
      "metadata": {
        "colab": {
          "base_uri": "https://localhost:8080/"
        },
        "id": "_VaT6NHb3O6G",
        "outputId": "ff9a0c47-74f8-44fb-e77e-62b3e744b062"
      },
      "execution_count": null,
      "outputs": [
        {
          "output_type": "stream",
          "name": "stdout",
          "text": [
            "+----------+-----------------+\n",
            "|Pendapatan|Pendapatan_Binary|\n",
            "+----------+-----------------+\n",
            "|      15.0|                0|\n",
            "|      15.0|                0|\n",
            "|      16.0|                0|\n",
            "|      16.0|                0|\n",
            "|      17.0|                0|\n",
            "+----------+-----------------+\n",
            "only showing top 5 rows\n",
            "\n",
            "Random Forest Accuracy: 0.995850622406639\n"
          ]
        }
      ]
    },
    {
      "cell_type": "markdown",
      "source": [
        "3. Model Clustering (K-Means)"
      ],
      "metadata": {
        "id": "KaTFmoWx4-R9"
      }
    },
    {
      "cell_type": "code",
      "source": [
        "from pyspark.ml.clustering import KMeans\n",
        "from pyspark.ml.evaluation import ClusteringEvaluator\n",
        "\n",
        "# K-Means Clustering\n",
        "kmeans = KMeans(k=4, featuresCol=\"scaled_features\", predictionCol=\"prediction\")\n",
        "kmeans_model = kmeans.fit(df_scaled)\n",
        "kmeans_predictions = kmeans_model.transform(df_scaled)\n",
        "\n",
        "# Evaluate K-Means\n",
        "clustering_evaluator = ClusteringEvaluator()\n",
        "kmeans_silhouette = clustering_evaluator.evaluate(kmeans_predictions)\n",
        "print(f\"K-Means Silhouette Score: {kmeans_silhouette}\")\n"
      ],
      "metadata": {
        "colab": {
          "base_uri": "https://localhost:8080/"
        },
        "id": "u8EsszPf43ZA",
        "outputId": "ee48ad01-ac4d-46ec-b156-376875a43645"
      },
      "execution_count": null,
      "outputs": [
        {
          "output_type": "stream",
          "name": "stdout",
          "text": [
            "K-Means Silhouette Score: 0.5692629512637629\n"
          ]
        }
      ]
    },
    {
      "cell_type": "markdown",
      "source": [
        "Gaussian Mixture Model (Model Tambahan)"
      ],
      "metadata": {
        "id": "HGApCYsg5LYX"
      }
    },
    {
      "cell_type": "code",
      "source": [
        "from pyspark.ml.clustering import GaussianMixture\n",
        "\n",
        "# Gaussian Mixture Model Clustering\n",
        "gmm = GaussianMixture(k=4, featuresCol=\"scaled_features\", predictionCol=\"prediction\")\n",
        "gmm_model = gmm.fit(df_scaled)\n",
        "gmm_predictions = gmm_model.transform(df_scaled)\n",
        "\n",
        "# Evaluate Gaussian Mixture Model\n",
        "gmm_silhouette = clustering_evaluator.evaluate(gmm_predictions)\n",
        "print(f\"GMM Silhouette Score: {gmm_silhouette}\")\n"
      ],
      "metadata": {
        "colab": {
          "base_uri": "https://localhost:8080/"
        },
        "id": "BsfSVQ-N5OiK",
        "outputId": "7cc1ba05-ea09-496f-fa65-f54ea6ea2f6e"
      },
      "execution_count": null,
      "outputs": [
        {
          "output_type": "stream",
          "name": "stdout",
          "text": [
            "GMM Silhouette Score: 0.060182849847821865\n"
          ]
        }
      ]
    },
    {
      "cell_type": "markdown",
      "source": [
        "4. Evaluasi dan Pemilihan Model Terbaik\n",
        "Setelah menjalankan keempat model, bandingkan performa berdasarkan:\n",
        "\n",
        "* Classification: Akurasi dari Gradient Boost Tree (GBT) dan Random Forest.\n",
        "* Clustering: Silhouette Score dari K-Means dan Gaussian Mixture Model."
      ],
      "metadata": {
        "id": "6u6vsGNi5W7b"
      }
    },
    {
      "cell_type": "markdown",
      "source": [
        "5. Hyperparameter Tuning\n",
        "(Hyperparameter Tuning untuk GBT)"
      ],
      "metadata": {
        "id": "7JLzqoCN5pmV"
      }
    },
    {
      "cell_type": "code",
      "source": [
        "from pyspark.ml.tuning import ParamGridBuilder, CrossValidator\n",
        "from pyspark.ml.classification import GBTClassifier\n",
        "from pyspark.ml.evaluation import MulticlassClassificationEvaluator\n",
        "\n",
        "# Tambahkan kolom label binary\n",
        "df_scaled = df_scaled.withColumn(\"Pendapatan_Binary\", (col(\"Pendapatan\") >= 50).cast(\"int\"))\n",
        "\n",
        "# Verifikasi kolom baru\n",
        "df_scaled.select(\"Pendapatan\", \"Pendapatan_Binary\").show(5)\n",
        "\n",
        "# Gradient Boosted Tree Classifier\n",
        "gbt = GBTClassifier(labelCol=\"Pendapatan_Binary\", featuresCol=\"scaled_features\")\n",
        "\n",
        "# Parameter grid untuk hyperparameter tuning\n",
        "paramGrid = ParamGridBuilder() \\\n",
        "    .addGrid(gbt.maxDepth, [3, 5, 7]) \\\n",
        "    .addGrid(gbt.maxIter, [10, 20]) \\\n",
        "    .build()\n",
        "\n",
        "# Evaluator untuk mengevaluasi performa model\n",
        "evaluator = MulticlassClassificationEvaluator(labelCol=\"Pendapatan_Binary\", metricName=\"accuracy\")\n",
        "\n",
        "# Cross-validator\n",
        "crossval = CrossValidator(estimator=gbt, estimatorParamMaps=paramGrid, evaluator=evaluator, numFolds=3)\n",
        "\n",
        "# Melakukan tuning\n",
        "cv_gbt_model = crossval.fit(df_scaled)\n",
        "\n",
        "# Model terbaik\n",
        "best_gbt_model = cv_gbt_model.bestModel\n",
        "best_gbt_accuracy = evaluator.evaluate(best_gbt_model.transform(df_scaled))\n",
        "print(f\"Best GBT Accuracy after tuning: {best_gbt_accuracy}\")\n"
      ],
      "metadata": {
        "colab": {
          "base_uri": "https://localhost:8080/"
        },
        "id": "PcA-8PFJ5gg_",
        "outputId": "889ae77a-daee-4546-f0db-ae23b92441a6"
      },
      "execution_count": null,
      "outputs": [
        {
          "output_type": "stream",
          "name": "stdout",
          "text": [
            "+----------+-----------------+\n",
            "|Pendapatan|Pendapatan_Binary|\n",
            "+----------+-----------------+\n",
            "|      15.0|                0|\n",
            "|      15.0|                0|\n",
            "|      16.0|                0|\n",
            "|      16.0|                0|\n",
            "|      17.0|                0|\n",
            "+----------+-----------------+\n",
            "only showing top 5 rows\n",
            "\n",
            "Best GBT Accuracy after tuning: 0.995850622406639\n"
          ]
        }
      ]
    },
    {
      "cell_type": "markdown",
      "source": [
        "Hyperparameter Tuning untuk K-Means"
      ],
      "metadata": {
        "id": "zPhtG-Aj6p4Q"
      }
    },
    {
      "cell_type": "code",
      "source": [
        "# Hyperparameter Tuning for K-Means\n",
        "silhouette_scores = []\n",
        "for k in range(2, 8):\n",
        "    kmeans = KMeans(k=k, featuresCol=\"scaled_features\", predictionCol=\"prediction\")\n",
        "    kmeans_model = kmeans.fit(df_scaled)\n",
        "    kmeans_predictions = kmeans_model.transform(df_scaled)\n",
        "    score = clustering_evaluator.evaluate(kmeans_predictions)\n",
        "    silhouette_scores.append((k, score))\n",
        "\n",
        "optimal_k = max(silhouette_scores, key=lambda x: x[1])\n",
        "print(f\"Optimal number of clusters: {optimal_k[0]} with silhouette score: {optimal_k[1]}\")\n"
      ],
      "metadata": {
        "colab": {
          "base_uri": "https://localhost:8080/"
        },
        "id": "Vrt4RoIF6oCK",
        "outputId": "aa09a4a3-1b16-4788-e99c-8f247cf83548"
      },
      "execution_count": null,
      "outputs": [
        {
          "output_type": "stream",
          "name": "stdout",
          "text": [
            "Optimal number of clusters: 6 with silhouette score: 0.7083418505780484\n"
          ]
        }
      ]
    },
    {
      "cell_type": "markdown",
      "source": [],
      "metadata": {
        "id": "BCZmlVLy78hC"
      }
    }
  ]
}